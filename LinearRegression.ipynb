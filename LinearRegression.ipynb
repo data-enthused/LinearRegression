{
 "cells": [
  {
   "cell_type": "code",
   "execution_count": 1,
   "metadata": {},
   "outputs": [],
   "source": [
    "import pandas as pd\n",
    "import numpy as np\n",
    "import matplotlib.pyplot as plt"
   ]
  },
  {
   "cell_type": "code",
   "execution_count": 2,
   "metadata": {},
   "outputs": [
    {
     "data": {
      "image/png": "[encoded data removed]",
      "text/plain": [
       "<Figure size 432x288 with 1 Axes>"
      ]
     },
     "metadata": {
      "needs_background": "light"
     },
     "output_type": "display_data"
    }
   ],
   "source": [
    "def StepGradient(dataset, slope, intercept):\n",
    "    interceptGradient = 0\n",
    "    slopeGradient = 0\n",
    "    for i in range(0, len(dataset)):\n",
    "        x = dataset.iloc[i, 0]\n",
    "        y = dataset.iloc[i, 1]\n",
    "        #Derivative of intercept\n",
    "        interceptGradient += (-2) * (y - ((slope * x) + intercept))\n",
    "        #Derivative of intercept\n",
    "        slopeGradient += (-2) * x * (y - ((slope * x) + intercept))\n",
    "    return [interceptGradient,slopeGradient]\n",
    "\n",
    "def GradientDescent(dataset):\n",
    "    step_size = 0.03\n",
    "    intercept = 0\n",
    "    slope = 0\n",
    "    threshold = 0.1\n",
    "    iterations = 0\n",
    "    intercept_gradient = 0\n",
    "    slope_gradient = 0\n",
    "    # Calculating the gradient with initial values of slope and gradient\n",
    "    [intercept_gradient,slope_gradient] = StepGradient(dataset, slope, intercept)\n",
    "  \n",
    "    \n",
    "    # Checking for convergence\n",
    "    while abs(intercept_gradient) > 0.01 or abs(slope_gradient) > 0.01: \n",
    "        # Updating the slope & intercept based on the gradient\n",
    "        new_intercept = intercept - (step_size * intercept_gradient)\n",
    "        new_slope = slope - (step_size * slope_gradient)\n",
    "        slope = new_slope\n",
    "        intercept = new_intercept\n",
    "        intercept_gradient = 0\n",
    "        slope_gradient = 0\n",
    "        [intercept_gradient,slope_gradient] = StepGradient(dataset, new_slope, new_intercept)    \n",
    "        iterations += 1\n",
    "        step_size = 0.03 / ((iterations) ** (1./2.)) #Minimising the step_size after every iteration\n",
    "    return [intercept, slope, iterations]\n",
    "    \n",
    "\n",
    "data = pd.DataFrame({'x': [1,2,4,6,8] ,'y': [2,5,6,9,11]})\n",
    "(intercept_a,slope_b,iterations) = GradientDescent(data)\n",
    "\n",
    "plt.scatter(data.x,data.y)\n",
    "plt.xlabel('X values')\n",
    "plt.ylabel('Y values')\n",
    "plt.plot(data.x, [slope_b*i + intercept_a for i in data.x],'green')\n",
    "plt.show()\n",
    "\n"
   ]
  },
  {
   "cell_type": "code",
   "execution_count": 3,
   "metadata": {},
   "outputs": [
    {
     "name": "stdout",
     "output_type": "stream",
     "text": [
      "1) The values of slope = 1.202 and intercept =1.551\n",
      "2) Number of iteration = 1373\n",
      "3) I have started with a step_size of 0.03 and updated the value after every iteration by dividing it with the squareroot of the number of iterations.\n",
      "4) Since the value of step_size is updated after every iteration, it took only few seconds to train the model\n"
     ]
    }
   ],
   "source": [
    "print('1) The values of slope = {0} and intercept ={1}'.format(round(slope_b,3),round(intercept_a,3)))\n",
    "print('2) Number of iteration =', iterations)\n",
    "print('3) I have started with a step_size of 0.03 and updated the value after every iteration by dividing it with the squareroot of the number of iterations.')\n",
    "print('4) Since the value of step_size is updated after every iteration, it took only few seconds to train the model')"
   ]
  },
  {
   "cell_type": "code",
   "execution_count": null,
   "metadata": {},
   "outputs": [],
   "source": []
  }
 ],
 "metadata": {
  "kernelspec": {
   "display_name": "Python 3",
   "language": "python",
   "name": "python3"
  },
  "language_info": {
   "codemirror_mode": {
    "name": "ipython",
    "version": 3
   },
   "file_extension": ".py",
   "mimetype": "text/x-python",
   "name": "python",
   "nbconvert_exporter": "python",
   "pygments_lexer": "ipython3",
   "version": "3.7.4"
  }
 },
 "nbformat": 4,
 "nbformat_minor": 2
}
